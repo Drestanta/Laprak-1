{
 "cells": [
  {
   "cell_type": "code",
   "execution_count": 1,
   "id": "c4d5447b",
   "metadata": {},
   "outputs": [
    {
     "name": "stdout",
     "output_type": "stream",
     "text": [
      "Keuntungan awal:\n",
      "Keuntungan dalam Rp: 875000\n",
      "Keuntungan dalam %: 5.384615384615385%\n",
      "\n",
      "Keuntungan setelah membeli tambahan emas:\n",
      "Keuntungan dalam Rp: 1200000\n",
      "Keuntungan dalam %: 4.37956204379562%\n"
     ]
    }
   ],
   "source": [
    "harga_emas_awal = 650000\n",
    "jumlah_emas_awal = 25\n",
    "tambahan_emas = 15\n",
    "harga_sekarang = 685000\n",
    "harga_naik = 715000\n",
    "\n",
    "total_emas_sekarang = jumlah_emas_awal + tambahan_emas\n",
    "\n",
    "total_biaya_awal = harga_emas_awal * jumlah_emas_awal\n",
    "total_biaya_sekarang = harga_sekarang * total_emas_sekarang\n",
    "\n",
    "keuntungan_rupiah = (harga_sekarang - harga_emas_awal) * jumlah_emas_awal\n",
    "keuntungan_terbaru_rupiah = (harga_naik - harga_sekarang) * total_emas_sekarang\n",
    "\n",
    "keuntungan_persen = (keuntungan_rupiah / total_biaya_awal) * 100\n",
    "keuntungan_terbaru_persen = (keuntungan_terbaru_rupiah / total_biaya_sekarang) * 100\n",
    "\n",
    "print(\"Keuntungan awal:\")\n",
    "print(f\"Keuntungan dalam Rp: {keuntungan_rupiah}\")\n",
    "print(f\"Keuntungan dalam %: {keuntungan_persen}%\")\n",
    "print(\"\\nKeuntungan setelah membeli tambahan emas:\")\n",
    "print(f\"Keuntungan dalam Rp: {keuntungan_terbaru_rupiah}\")\n",
    "print(f\"Keuntungan dalam %: {keuntungan_terbaru_persen}%\")"
   ]
  },
  {
   "cell_type": "code",
   "execution_count": null,
   "id": "bd03b6af",
   "metadata": {},
   "outputs": [],
   "source": []
  }
 ],
 "metadata": {
  "kernelspec": {
   "display_name": "Python 3 (ipykernel)",
   "language": "python",
   "name": "python3"
  },
  "language_info": {
   "codemirror_mode": {
    "name": "ipython",
    "version": 3
   },
   "file_extension": ".py",
   "mimetype": "text/x-python",
   "name": "python",
   "nbconvert_exporter": "python",
   "pygments_lexer": "ipython3",
   "version": "3.9.13"
  }
 },
 "nbformat": 4,
 "nbformat_minor": 5
}
