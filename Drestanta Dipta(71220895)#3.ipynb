{
 "cells": [
  {
   "cell_type": "code",
   "execution_count": 1,
   "id": "260947f1",
   "metadata": {},
   "outputs": [
    {
     "name": "stdout",
     "output_type": "stream",
     "text": [
      "Waktu yang dibutuhkan: 8 tahun\n"
     ]
    }
   ],
   "source": [
    "jumlah_awal = 200_000_000\n",
    "jumlah_target = 400_000_000\n",
    "tingkat_bunga_tahunan = 0.10\n",
    "kali_bunga_per_tahun = 1\n",
    "\n",
    "waktu_t = 0\n",
    "\n",
    "while jumlah_awal < jumlah_target:\n",
    "    jumlah_awal *= (1 + tingkat_bunga_tahunan)\n",
    "    waktu_t += 1\n",
    "\n",
    "print(f'Waktu yang dibutuhkan: {waktu_t} tahun')"
   ]
  },
  {
   "cell_type": "code",
   "execution_count": null,
   "id": "0162f031",
   "metadata": {},
   "outputs": [],
   "source": []
  }
 ],
 "metadata": {
  "kernelspec": {
   "display_name": "Python 3 (ipykernel)",
   "language": "python",
   "name": "python3"
  },
  "language_info": {
   "codemirror_mode": {
    "name": "ipython",
    "version": 3
   },
   "file_extension": ".py",
   "mimetype": "text/x-python",
   "name": "python",
   "nbconvert_exporter": "python",
   "pygments_lexer": "ipython3",
   "version": "3.9.13"
  }
 },
 "nbformat": 4,
 "nbformat_minor": 5
}
